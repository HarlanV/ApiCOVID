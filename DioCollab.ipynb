{
  "nbformat": 4,
  "nbformat_minor": 0,
  "metadata": {
    "colab": {
      "name": "DioCollab.ipynb",
      "provenance": [],
      "collapsed_sections": [],
      "toc_visible": true,
      "authorship_tag": "ABX9TyPzMlKAZctDSMfJjU39KdJz",
      "include_colab_link": true
    },
    "kernelspec": {
      "name": "python3",
      "display_name": "Python 3"
    },
    "language_info": {
      "name": "python"
    }
  },
  "cells": [
    {
      "cell_type": "markdown",
      "metadata": {
        "id": "view-in-github",
        "colab_type": "text"
      },
      "source": [
        "<a href=\"https://colab.research.google.com/github/HarlanV/ApiCOVID/blob/main/DioCollab.ipynb\" target=\"_parent\"><img src=\"https://colab.research.google.com/assets/colab-badge.svg\" alt=\"Open In Colab\"/></a>"
      ]
    },
    {
      "cell_type": "code",
      "metadata": {
        "id": "FDWQs56dfBH6"
      },
      "source": [
        "import pandas as pd\n",
        "import matplotlib.pyplot as plt"
      ],
      "execution_count": 1,
      "outputs": []
    },
    {
      "cell_type": "code",
      "metadata": {
        "id": "7g8pr1ehLFAt"
      },
      "source": [
        "plt.style.use(\"ggplot\") #Configuração de plots"
      ],
      "execution_count": 2,
      "outputs": []
    },
    {
      "cell_type": "code",
      "metadata": {
        "id": "x79mCcdGfhIz"
      },
      "source": [
        "#https://www.gapminder.org/data/\n",
        "df = pd.read_csv(\"/content/eg_use_comm_fo_zs.csv\")"
      ],
      "execution_count": 3,
      "outputs": []
    },
    {
      "cell_type": "code",
      "metadata": {
        "id": "Rro3bp45jYr2"
      },
      "source": [
        "df.rename(columns={\"country\":\"Pais\"}, inplace=True)"
      ],
      "execution_count": 4,
      "outputs": []
    },
    {
      "cell_type": "code",
      "metadata": {
        "id": "nrAzztxrmC0g"
      },
      "source": [
        "#Ultimos 10 anos, descartando 2014\n",
        "df = df.set_index('Pais').iloc[:, -11:-1]"
      ],
      "execution_count": 5,
      "outputs": []
    },
    {
      "cell_type": "code",
      "metadata": {
        "colab": {
          "base_uri": "https://localhost:8080/"
        },
        "id": "s3EJQtW8tIZw",
        "outputId": "abeaa7d6-1276-4c78-9e05-384fbaedae02"
      },
      "source": [
        "#Países a serem discartados\n",
        "df.loc[df.isnull().sum(axis=1)>=3,:].index.values.tolist()"
      ],
      "execution_count": 6,
      "outputs": [
        {
          "output_type": "execute_result",
          "data": {
            "text/plain": [
              "['Antigua and Barbuda',\n",
              " 'Bahrain',\n",
              " 'Bahamas',\n",
              " 'Belize',\n",
              " 'Barbados',\n",
              " 'Bhutan',\n",
              " 'Comoros',\n",
              " 'Cape Verde',\n",
              " 'Djibouti',\n",
              " 'Dominica',\n",
              " 'Fiji',\n",
              " 'Gibraltar',\n",
              " 'Gambia',\n",
              " 'Guinea-Bissau',\n",
              " 'Equatorial Guinea',\n",
              " 'Grenada',\n",
              " 'Guyana',\n",
              " 'Kiribati',\n",
              " 'St. Kitts and Nevis',\n",
              " 'St. Lucia',\n",
              " 'Lesotho',\n",
              " 'Maldives',\n",
              " 'Marshall Islands',\n",
              " 'Curaçao',\n",
              " 'Oman',\n",
              " 'Palau',\n",
              " 'Qatar',\n",
              " 'Solomon Islands',\n",
              " 'South Sudan',\n",
              " 'Sao Tome and Principe',\n",
              " 'Eswatini',\n",
              " 'Seychelles',\n",
              " 'Timor-Leste',\n",
              " 'Tonga',\n",
              " 'St. Vincent and the Grenadines',\n",
              " 'Vanuatu',\n",
              " 'Samoa']"
            ]
          },
          "metadata": {},
          "execution_count": 6
        }
      ]
    },
    {
      "cell_type": "code",
      "metadata": {
        "id": "5pM6foetz1nl"
      },
      "source": [
        "#Descartando países com mais de 30% de valores nulos\n",
        "df = df.loc[df.isnull().sum(axis=1)<=3,:]\n",
        "#Substituindo nulos pela média\n",
        "df = df.T.fillna(df.mean(axis=1)).T"
      ],
      "execution_count": 7,
      "outputs": []
    },
    {
      "cell_type": "code",
      "metadata": {
        "colab": {
          "base_uri": "https://localhost:8080/"
        },
        "id": "6EqQRYHYvhuA",
        "outputId": "627b55b3-b8c6-4a49-a9e6-b35db14f18ca"
      },
      "source": [
        "# Média por País\n",
        "df.mean(axis=1).sort_values().sort_values(ascending=False)"
      ],
      "execution_count": 8,
      "outputs": [
        {
          "output_type": "execute_result",
          "data": {
            "text/plain": [
              "Pais\n",
              "Brunei                 100.000000\n",
              "Oman                   100.000000\n",
              "Trinidad and Tobago     99.880000\n",
              "Saudi Arabia            99.820000\n",
              "Algeria                 99.820000\n",
              "                          ...    \n",
              "Tanzania                11.685000\n",
              "Zambia                   8.744444\n",
              "Mozambique               8.121000\n",
              "Ethiopia                 4.928000\n",
              "Congo, Dem. Rep.         3.309000\n",
              "Length: 137, dtype: float64"
            ]
          },
          "metadata": {},
          "execution_count": 8
        }
      ]
    },
    {
      "cell_type": "code",
      "metadata": {
        "colab": {
          "base_uri": "https://localhost:8080/"
        },
        "id": "YHvR4mrZ8YU_",
        "outputId": "c256f5e3-0e04-4516-dbfd-27789cbab221"
      },
      "source": [
        "df.mean() # Média por Ano"
      ],
      "execution_count": 9,
      "outputs": [
        {
          "output_type": "execute_result",
          "data": {
            "text/plain": [
              "2004    68.477815\n",
              "2005    68.556642\n",
              "2006    68.877956\n",
              "2007    68.719124\n",
              "2008    68.046259\n",
              "2009    68.287067\n",
              "2010    68.326004\n",
              "2011    68.328819\n",
              "2012    67.972628\n",
              "2013    67.879862\n",
              "dtype: float64"
            ]
          },
          "metadata": {},
          "execution_count": 9
        }
      ]
    },
    {
      "cell_type": "code",
      "metadata": {
        "id": "_hh2VMQz43D0"
      },
      "source": [
        "taxa = df[\"2013\"] - df[\"2004\"]\n",
        "taxa = taxa.to_frame(\"Delta\")"
      ],
      "execution_count": 10,
      "outputs": []
    },
    {
      "cell_type": "code",
      "metadata": {
        "colab": {
          "base_uri": "https://localhost:8080/",
          "height": 175
        },
        "id": "HyOrHwa_4itK",
        "outputId": "18e7adb5-138e-4f2d-f622-3dac816cbd72"
      },
      "source": [
        "taxa.nlargest(5,\"Delta\") # Diferença no consumo comparado 2013 e 2004"
      ],
      "execution_count": 11,
      "outputs": [
        {
          "output_type": "execute_result",
          "data": {
            "text/html": [
              "<div>\n",
              "<style scoped>\n",
              "    .dataframe tbody tr th:only-of-type {\n",
              "        vertical-align: middle;\n",
              "    }\n",
              "\n",
              "    .dataframe tbody tr th {\n",
              "        vertical-align: top;\n",
              "    }\n",
              "\n",
              "    .dataframe thead th {\n",
              "        text-align: right;\n",
              "    }\n",
              "</style>\n",
              "<table border=\"1\" class=\"dataframe\">\n",
              "  <thead>\n",
              "    <tr style=\"text-align: right;\">\n",
              "      <th></th>\n",
              "      <th>Delta</th>\n",
              "    </tr>\n",
              "    <tr>\n",
              "      <th>Pais</th>\n",
              "      <th></th>\n",
              "    </tr>\n",
              "  </thead>\n",
              "  <tbody>\n",
              "    <tr>\n",
              "      <th>Cameroon</th>\n",
              "      <td>23.0</td>\n",
              "    </tr>\n",
              "    <tr>\n",
              "      <th>Angola</th>\n",
              "      <td>21.2</td>\n",
              "    </tr>\n",
              "    <tr>\n",
              "      <th>Ghana</th>\n",
              "      <td>14.9</td>\n",
              "    </tr>\n",
              "  </tbody>\n",
              "</table>\n",
              "</div>"
            ],
            "text/plain": [
              "          Delta\n",
              "Pais           \n",
              "Cameroon   23.0\n",
              "Angola     21.2\n",
              "Ghana      14.9"
            ]
          },
          "metadata": {},
          "execution_count": 11
        }
      ]
    },
    {
      "cell_type": "code",
      "metadata": {
        "colab": {
          "base_uri": "https://localhost:8080/",
          "height": 175
        },
        "id": "htOstJmh4qqr",
        "outputId": "0b94bbd5-1f54-4928-a958-33e77eb2e669"
      },
      "source": [
        "taxa.nsmallest(5,\"Delta\")"
      ],
      "execution_count": 12,
      "outputs": [
        {
          "output_type": "execute_result",
          "data": {
            "text/html": [
              "<div>\n",
              "<style scoped>\n",
              "    .dataframe tbody tr th:only-of-type {\n",
              "        vertical-align: middle;\n",
              "    }\n",
              "\n",
              "    .dataframe tbody tr th {\n",
              "        vertical-align: top;\n",
              "    }\n",
              "\n",
              "    .dataframe thead th {\n",
              "        text-align: right;\n",
              "    }\n",
              "</style>\n",
              "<table border=\"1\" class=\"dataframe\">\n",
              "  <thead>\n",
              "    <tr style=\"text-align: right;\">\n",
              "      <th></th>\n",
              "      <th>Delta</th>\n",
              "    </tr>\n",
              "    <tr>\n",
              "      <th>Pais</th>\n",
              "      <th></th>\n",
              "    </tr>\n",
              "  </thead>\n",
              "  <tbody>\n",
              "    <tr>\n",
              "      <th>North Korea</th>\n",
              "      <td>-27.7</td>\n",
              "    </tr>\n",
              "    <tr>\n",
              "      <th>Uruguay</th>\n",
              "      <td>-17.0</td>\n",
              "    </tr>\n",
              "    <tr>\n",
              "      <th>Estonia</th>\n",
              "      <td>-15.8</td>\n",
              "    </tr>\n",
              "  </tbody>\n",
              "</table>\n",
              "</div>"
            ],
            "text/plain": [
              "             Delta\n",
              "Pais              \n",
              "North Korea  -27.7\n",
              "Uruguay      -17.0\n",
              "Estonia      -15.8"
            ]
          },
          "metadata": {},
          "execution_count": 12
        }
      ]
    },
    {
      "cell_type": "code",
      "metadata": {
        "colab": {
          "base_uri": "https://localhost:8080/",
          "height": 366
        },
        "id": "lN_9bwRq_j1H",
        "outputId": "06e342cd-e97f-4d04-b544-729089a46f23"
      },
      "source": [
        "df.mean(axis=1).sort_values(ascending=False).sample(10).plot.bar(title = \"% Energia Fossil\")"
      ],
      "execution_count": 13,
      "outputs": [
        {
          "output_type": "execute_result",
          "data": {
            "text/plain": [
              "<matplotlib.axes._subplots.AxesSubplot at 0x7ff2a9f7b690>"
            ]
          },
          "metadata": {},
          "execution_count": 13
        },
        {
          "output_type": "display_data",
          "data": {
            "image/png": "[encoded data removed]",
            "text/plain": [
              "<Figure size 432x288 with 1 Axes>"
            ]
          },
          "metadata": {}
        }
      ]
    },
    {
      "cell_type": "code",
      "metadata": {
        "colab": {
          "base_uri": "https://localhost:8080/",
          "height": 299
        },
        "id": "vY0UwgykAZnQ",
        "outputId": "09d1a354-3b5b-478d-8503-d950b7898988"
      },
      "source": [
        "plt.style.use(\"ggplot\")\n",
        "ref = df.mean()[\"2004\"]\n",
        "((df.mean() - ref)/ref*100)[1:].plot()\n",
        "plt.title(\"Variação percentual a partir de 2004\")\n",
        "plt.ylabel(\"%\")\n",
        "plt.xlabel(\"ano\")\n",
        "plt.show()"
      ],
      "execution_count": 14,
      "outputs": [
        {
          "output_type": "display_data",
          "data": {
            "image/png": "[encoded data removed]",
            "text/plain": [
              "<Figure size 432x288 with 1 Axes>"
            ]
          },
          "metadata": {}
        }
      ]
    },
    {
      "cell_type": "code",
      "metadata": {
        "colab": {
          "base_uri": "https://localhost:8080/",
          "height": 315
        },
        "id": "sicDaDRRCfEB",
        "outputId": "0f68a07b-a6e5-4b47-d77b-e68871c5a223"
      },
      "source": [
        "df.mean().plot.bar(ylim=[66,70], title=\"%Energ. Fossil\")"
      ],
      "execution_count": 15,
      "outputs": [
        {
          "output_type": "execute_result",
          "data": {
            "text/plain": [
              "<matplotlib.axes._subplots.AxesSubplot at 0x7ff2a9a0a390>"
            ]
          },
          "metadata": {},
          "execution_count": 15
        },
        {
          "output_type": "display_data",
          "data": {
            "image/png": "[encoded data removed]",
            "text/plain": [
              "<Figure size 432x288 with 1 Axes>"
            ]
          },
          "metadata": {}
        }
      ]
    },
    {
      "cell_type": "code",
      "metadata": {
        "colab": {
          "base_uri": "https://localhost:8080/"
        },
        "id": "wLz1aCJ-EECZ",
        "outputId": "610f3be0-761c-42ca-d317-c414fc5594b4"
      },
      "source": [
        ""
      ],
      "execution_count": 16,
      "outputs": [
        {
          "output_type": "execute_result",
          "data": {
            "text/plain": [
              "67.87986212489857"
            ]
          },
          "metadata": {},
          "execution_count": 16
        }
      ]
    },
    {
      "cell_type": "code",
      "metadata": {
        "id": "NueHJ9i5GP-g"
      },
      "source": [
        ""
      ],
      "execution_count": null,
      "outputs": []
    }
  ]
}